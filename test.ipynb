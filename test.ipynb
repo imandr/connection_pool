{
 "cells": [
  {
   "cell_type": "code",
   "execution_count": 2,
   "metadata": {},
   "outputs": [],
   "source": [
    "from ConnectionPool import ConnectionPool\n",
    "pool = ConnectionPool(idle_timeout = 1, postgres=\"host=localhost user=ivm\")"
   ]
  },
  {
   "cell_type": "code",
   "execution_count": 7,
   "metadata": {},
   "outputs": [
    {
     "name": "stdout",
     "output_type": "stream",
     "text": [
      "4324206688\n",
      "4324206688\n",
      "OK: The connection was reused\n"
     ]
    }
   ],
   "source": [
    "with pool.connect() as conn1:\n",
    "    id1 = id(conn1)\n",
    "    print id1\n",
    "\n",
    "with pool.connect() as conn2:\n",
    "    id2 = id(conn2)\n",
    "    print id2\n",
    "    \n",
    "if id1 == id2:\n",
    "    print \"OK: The connection was reused\"\n",
    "else:\n",
    "    print \"Error. The connection was not reused\"\n",
    "\n"
   ]
  },
  {
   "cell_type": "code",
   "execution_count": 8,
   "metadata": {},
   "outputs": [
    {
     "name": "stdout",
     "output_type": "stream",
     "text": [
      "4324207032\n",
      "4324206344\n",
      "OK: Idle connection was closed and new one was created\n"
     ]
    }
   ],
   "source": [
    "import time\n",
    "\n",
    "with pool.connect() as conn1:\n",
    "    id1 = id(conn1)\n",
    "    print id1\n",
    "\n",
    "time.sleep(5)\n",
    "    \n",
    "with pool.connect() as conn2:\n",
    "    id2 = id(conn2)\n",
    "    print id2\n",
    "    \n",
    "if id1 != id2:\n",
    "    print \"OK: Idle connection was closed and new one was created\"\n",
    "else:\n",
    "    print \"Error. The connection was supposed to be closed\""
   ]
  },
  {
   "cell_type": "code",
   "execution_count": 9,
   "metadata": {},
   "outputs": [
    {
     "name": "stdout",
     "output_type": "stream",
     "text": [
      "4330706128\n",
      "4330239184\n",
      "OK: New connection was open\n"
     ]
    }
   ],
   "source": [
    "conn1 = pool.connect()\n",
    "id1 = id(conn1)\n",
    "print id1\n",
    "\n",
    "conn2 = pool.connect()\n",
    "id2 = id(conn2)\n",
    "print id2\n",
    "\n",
    "if id1 != id2:\n",
    "    print \"OK: New connection was open\"\n",
    "else:\n",
    "    print \"Error: connection was reused\""
   ]
  },
  {
   "cell_type": "code",
   "execution_count": null,
   "metadata": {},
   "outputs": [],
   "source": []
  }
 ],
 "metadata": {
  "kernelspec": {
   "display_name": "Python 2",
   "language": "python",
   "name": "python2"
  },
  "language_info": {
   "codemirror_mode": {
    "name": "ipython",
    "version": 2
   },
   "file_extension": ".py",
   "mimetype": "text/x-python",
   "name": "python",
   "nbconvert_exporter": "python",
   "pygments_lexer": "ipython2",
   "version": "2.7.15"
  }
 },
 "nbformat": 4,
 "nbformat_minor": 1
}
